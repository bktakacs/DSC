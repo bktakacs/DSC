{
 "cells": [
  {
   "cell_type": "code",
   "execution_count": 4,
   "metadata": {},
   "outputs": [],
   "source": [
    "import sqlite3\n",
    "from sqlite3 import Error\n",
    "conn = sqlite3.connect('sqlite_db_pythonsqlite.db')\n",
    "curs = conn.cursor()"
   ]
  },
  {
   "cell_type": "markdown",
   "metadata": {},
   "source": [
    "__Q10__ /* Q10: Produce a list of facilities with a total revenue less than 1000.\n",
    "The output of facility name and total revenue, sorted by revenue. Remember\n",
    "that there's a different cost for guests and members! */"
   ]
  },
  {
   "cell_type": "code",
   "execution_count": 5,
   "metadata": {},
   "outputs": [
    {
     "name": "stdout",
     "output_type": "stream",
     "text": [
      "('Table Tennis', 180)\n",
      "('Snooker Table', 240)\n",
      "('Pool Table', 270)\n"
     ]
    }
   ],
   "source": [
    "query10 = \"\"\"\n",
    "        SELECT name, revenue\n",
    "        FROM (\n",
    "            SELECT f.name,\n",
    "                SUM(CASE\n",
    "                    WHEN b.memid = 0 THEN b.slots * f.guestcost\n",
    "                    ELSE b.slots * f.membercost\n",
    "                    END) AS revenue\n",
    "            FROM Bookings b\n",
    "            INNER JOIN Facilities f\n",
    "                ON b.facid = f.facid\n",
    "            GROUP BY f.name\n",
    "        ) AS agg WHERE revenue < 1000\n",
    "        ORDER BY revenue;\n",
    "        \"\"\"\n",
    "\n",
    "rs10 = curs.execute(query10).fetchall()\n",
    "for r in rs10:\n",
    "    print(r)"
   ]
  },
  {
   "cell_type": "markdown",
   "metadata": {},
   "source": [
    "__Q11__ /* Q11: Produce a report of members and who recommended them in alphabetic surname,firstname order */"
   ]
  },
  {
   "cell_type": "code",
   "execution_count": 6,
   "metadata": {},
   "outputs": [
    {
     "name": "stdout",
     "output_type": "stream",
     "text": [
      "('Bader, Florence', 'Stibbons, Ponder')\n",
      "('Baker, Anne', 'Stibbons, Ponder')\n",
      "('Baker, Timothy', 'Farrell, Jemima')\n",
      "('Boothe, Tim', 'Rownam, Tim')\n",
      "('Butters, Gerald', 'Smith, Darren')\n",
      "('Coplin, Joan', 'Baker, Timothy')\n",
      "('Crumpet, Erica', 'Smith, Tracy')\n",
      "('Dare, Nancy', 'Joplette, Janice')\n",
      "('Farrell, David', None)\n",
      "('Farrell, Jemima', None)\n",
      "('GUEST, GUEST', None)\n",
      "('Genting, Matthew', 'Butters, Gerald')\n",
      "('Hunt, John', 'Purview, Millicent')\n",
      "('Jones, David', 'Joplette, Janice')\n",
      "('Jones, Douglas', 'Jones, David')\n",
      "('Joplette, Janice', 'Smith, Darren')\n",
      "('Mackenzie, Anna', 'Smith, Darren')\n",
      "('Owen, Charles', 'Smith, Darren')\n",
      "('Pinker, David', 'Farrell, Jemima')\n",
      "('Purview, Millicent', 'Smith, Tracy')\n",
      "('Rownam, Tim', None)\n",
      "('Rumney, Henrietta', 'Genting, Matthew')\n",
      "('Sarwin, Ramnaresh', 'Bader, Florence')\n",
      "('Smith, Darren', None)\n",
      "('Smith, Jack', 'Smith, Darren')\n",
      "('Smith, Tracy', None)\n",
      "('Stibbons, Ponder', 'Tracy, Burton')\n",
      "('Tracy, Burton', None)\n",
      "('Tupperware, Hyacinth', None)\n",
      "('Worthington-Smyth, Henry', 'Smith, Tracy')\n"
     ]
    }
   ],
   "source": [
    "query11 = \"\"\"\n",
    "        SELECT DISTINCT m.surname || ', ' || m.firstname as member,\n",
    "            (\n",
    "                SELECT recs.surname || ', ' || recs.firstname as recommender\n",
    "                FROM Members recs\n",
    "                WHERE recs.memid = m.recommendedby\n",
    "            )\n",
    "        FROM Members m\n",
    "        ORDER BY member;\n",
    "    \"\"\"\n",
    "\n",
    "response = curs.execute(query11).fetchall()\n",
    "for r in response:\n",
    "    print(r)"
   ]
  },
  {
   "cell_type": "markdown",
   "metadata": {},
   "source": [
    "__Q12__ /* Q12: Find the facilities with their usage by member, but not guests */\n"
   ]
  },
  {
   "cell_type": "code",
   "execution_count": 7,
   "metadata": {},
   "outputs": [
    {
     "name": "stdout",
     "output_type": "stream",
     "text": [
      "('Tennis Court 1', 308)\n",
      "('Tennis Court 2', 276)\n",
      "('Badminton Court', 344)\n",
      "('Table Tennis', 385)\n",
      "('Massage Room 1', 421)\n",
      "('Massage Room 2', 27)\n",
      "('Squash Court', 195)\n",
      "('Snooker Table', 421)\n",
      "('Pool Table', 783)\n"
     ]
    }
   ],
   "source": [
    "query12 = \"\"\"\n",
    "        SELECT f.name, COUNT(*) AS usage\n",
    "        FROM Facilities f\n",
    "        LEFT JOIN Bookings b\n",
    "        ON f.facid = b.facid\n",
    "        WHERE b.memid > 0\n",
    "        GROUP BY b.facid;   \n",
    "    \"\"\"\n",
    "\n",
    "response = curs.execute(query12).fetchall()\n",
    "for r in response:\n",
    "    print(r)"
   ]
  },
  {
   "cell_type": "markdown",
   "metadata": {},
   "source": [
    "__Q13__ /* Q13: Find the facilities usage by month, but not guests */"
   ]
  },
  {
   "cell_type": "code",
   "execution_count": 8,
   "metadata": {},
   "outputs": [
    {
     "name": "stdout",
     "output_type": "stream",
     "text": [
      "('Tennis Court 1', '07', 65)\n",
      "('Tennis Court 1', '08', 111)\n",
      "('Tennis Court 1', '09', 132)\n",
      "('Tennis Court 2', '07', 41)\n",
      "('Tennis Court 2', '08', 109)\n",
      "('Tennis Court 2', '09', 126)\n",
      "('Badminton Court', '07', 51)\n",
      "('Badminton Court', '08', 132)\n",
      "('Badminton Court', '09', 161)\n",
      "('Table Tennis', '07', 48)\n",
      "('Table Tennis', '08', 143)\n",
      "('Table Tennis', '09', 194)\n",
      "('Massage Room 1', '07', 77)\n",
      "('Massage Room 1', '08', 153)\n",
      "('Massage Room 1', '09', 191)\n",
      "('Massage Room 2', '07', 4)\n",
      "('Massage Room 2', '08', 9)\n",
      "('Massage Room 2', '09', 14)\n",
      "('Squash Court', '07', 23)\n",
      "('Squash Court', '08', 85)\n",
      "('Squash Court', '09', 87)\n",
      "('Snooker Table', '07', 68)\n",
      "('Snooker Table', '08', 154)\n",
      "('Snooker Table', '09', 199)\n",
      "('Pool Table', '07', 103)\n",
      "('Pool Table', '08', 272)\n",
      "('Pool Table', '09', 408)\n"
     ]
    }
   ],
   "source": [
    "query13 = \"\"\"\n",
    "        SELECT f.name, STRFTIME('%m', b.starttime) AS month, COUNT(*) AS usage\n",
    "        FROM Facilities f\n",
    "        LEFT JOIN Bookings b\n",
    "        ON f.facid = b.facid\n",
    "        WHERE b.memid > 0\n",
    "        GROUP BY b.facid, month;\n",
    "    \"\"\"\n",
    "\n",
    "response = curs.execute(query13).fetchall()\n",
    "for r in response:\n",
    "    print(r)"
   ]
  },
  {
   "cell_type": "code",
   "execution_count": null,
   "metadata": {},
   "outputs": [],
   "source": []
  }
 ],
 "metadata": {
  "kernelspec": {
   "display_name": "Python 3",
   "language": "python",
   "name": "python3"
  },
  "language_info": {
   "codemirror_mode": {
    "name": "ipython",
    "version": 3
   },
   "file_extension": ".py",
   "mimetype": "text/x-python",
   "name": "python",
   "nbconvert_exporter": "python",
   "pygments_lexer": "ipython3",
   "version": "3.10.4"
  }
 },
 "nbformat": 4,
 "nbformat_minor": 2
}
